{
 "cells": [
  {
   "cell_type": "markdown",
   "metadata": {},
   "source": [
    "## Analyze SHARPs dataset\n",
    "\n",
    "Plots some SHARPs parameters and adds flare labels to index."
   ]
  },
  {
   "cell_type": "markdown",
   "metadata": {},
   "source": [
    "### Imports and functions"
   ]
  },
  {
   "cell_type": "code",
   "execution_count": 84,
   "metadata": {},
   "outputs": [],
   "source": [
    "from datetime import datetime,timedelta\n",
    "import glob\n",
    "import matplotlib.pyplot as plt\n",
    "import numpy as np\n",
    "import pandas as pd\n",
    "import seaborn as sns\n",
    "from sunpy.net import Fido\n",
    "from sunpy.net import attrs as a\n",
    "import tqdm"
   ]
  },
  {
   "cell_type": "markdown",
   "metadata": {},
   "source": [
    "### Read in index files"
   ]
  },
  {
   "cell_type": "code",
   "execution_count": 68,
   "metadata": {},
   "outputs": [
    {
     "data": {
      "text/html": [
       "<div>\n",
       "<style scoped>\n",
       "    .dataframe tbody tr th:only-of-type {\n",
       "        vertical-align: middle;\n",
       "    }\n",
       "\n",
       "    .dataframe tbody tr th {\n",
       "        vertical-align: top;\n",
       "    }\n",
       "\n",
       "    .dataframe thead th {\n",
       "        text-align: right;\n",
       "    }\n",
       "</style>\n",
       "<table border=\"1\" class=\"dataframe\">\n",
       "  <thead>\n",
       "    <tr style=\"text-align: right;\">\n",
       "      <th></th>\n",
       "      <th>file</th>\n",
       "      <th>sample_time</th>\n",
       "      <th>br_file</th>\n",
       "      <th>blos_file</th>\n",
       "      <th>naxis1</th>\n",
       "      <th>naxis2</th>\n",
       "      <th>t_obs</th>\n",
       "      <th>t_rec</th>\n",
       "      <th>origin</th>\n",
       "      <th>date</th>\n",
       "      <th>...</th>\n",
       "      <th>lon_max</th>\n",
       "      <th>noaa_ar</th>\n",
       "      <th>noaa_ars</th>\n",
       "      <th>usfluxl</th>\n",
       "      <th>meangbl</th>\n",
       "      <th>missvals</th>\n",
       "      <th>datamin</th>\n",
       "      <th>datamax</th>\n",
       "      <th>datamedn</th>\n",
       "      <th>datamean</th>\n",
       "    </tr>\n",
       "  </thead>\n",
       "  <tbody>\n",
       "    <tr>\n",
       "      <th>0</th>\n",
       "      <td>/d0/kvandersande/sharps_hdf5/hmi.sharp_cea_720...</td>\n",
       "      <td>2010-05-01 07:48:03.860</td>\n",
       "      <td>/d0/kvandersande/sharps/sharp_1/hmi.sharp_cea_...</td>\n",
       "      <td>/d0/kvandersande/sharps/sharp_1/hmi.sharp_cea_...</td>\n",
       "      <td>580</td>\n",
       "      <td>265</td>\n",
       "      <td>2010.05.01_07:48:03.860_TAI</td>\n",
       "      <td>2010.05.01_07:48:00.000_TAI</td>\n",
       "      <td>SDO/JSOC-SDP</td>\n",
       "      <td>2018-04-20T20:29:02.000</td>\n",
       "      <td>...</td>\n",
       "      <td>-69.727379</td>\n",
       "      <td>11067</td>\n",
       "      <td>11067</td>\n",
       "      <td>2.376075e+21</td>\n",
       "      <td>10.670333</td>\n",
       "      <td>3902.0</td>\n",
       "      <td>-1408.60999</td>\n",
       "      <td>1419.29004</td>\n",
       "      <td>-8.662315</td>\n",
       "      <td>0.103898</td>\n",
       "    </tr>\n",
       "    <tr>\n",
       "      <th>1</th>\n",
       "      <td>/d0/kvandersande/sharps_hdf5/hmi.sharp_cea_720...</td>\n",
       "      <td>2010-05-03 07:48:04.114</td>\n",
       "      <td>/d0/kvandersande/sharps/sharp_1/hmi.sharp_cea_...</td>\n",
       "      <td>/d0/kvandersande/sharps/sharp_1/hmi.sharp_cea_...</td>\n",
       "      <td>580</td>\n",
       "      <td>265</td>\n",
       "      <td>2010.05.03_07:48:04.114_TAI</td>\n",
       "      <td>2010.05.03_07:48:00.000_TAI</td>\n",
       "      <td>SDO/JSOC-SDP</td>\n",
       "      <td>2018-04-20T21:19:35.000</td>\n",
       "      <td>...</td>\n",
       "      <td>-40.446934</td>\n",
       "      <td>11067</td>\n",
       "      <td>11067</td>\n",
       "      <td>5.077353e+21</td>\n",
       "      <td>18.540165</td>\n",
       "      <td>0.0</td>\n",
       "      <td>-2008.47998</td>\n",
       "      <td>1849.40002</td>\n",
       "      <td>10.731854</td>\n",
       "      <td>17.393345</td>\n",
       "    </tr>\n",
       "    <tr>\n",
       "      <th>2</th>\n",
       "      <td>/d0/kvandersande/sharps_hdf5/hmi.sharp_cea_720...</td>\n",
       "      <td>2010-05-03 23:48:04.079</td>\n",
       "      <td>/d0/kvandersande/sharps/sharp_1/hmi.sharp_cea_...</td>\n",
       "      <td>/d0/kvandersande/sharps/sharp_1/hmi.sharp_cea_...</td>\n",
       "      <td>580</td>\n",
       "      <td>265</td>\n",
       "      <td>2010.05.03_23:48:04.079_TAI</td>\n",
       "      <td>2010.05.03_23:48:00.000_TAI</td>\n",
       "      <td>SDO/JSOC-SDP</td>\n",
       "      <td>2018-04-20T21:37:13.000</td>\n",
       "      <td>...</td>\n",
       "      <td>-31.397173</td>\n",
       "      <td>11067</td>\n",
       "      <td>11067</td>\n",
       "      <td>5.285607e+21</td>\n",
       "      <td>19.634661</td>\n",
       "      <td>0.0</td>\n",
       "      <td>-1923.65002</td>\n",
       "      <td>1978.01001</td>\n",
       "      <td>5.658292</td>\n",
       "      <td>14.098642</td>\n",
       "    </tr>\n",
       "    <tr>\n",
       "      <th>3</th>\n",
       "      <td>/d0/kvandersande/sharps_hdf5/hmi.sharp_cea_720...</td>\n",
       "      <td>2010-05-01 15:48:03.687</td>\n",
       "      <td>/d0/kvandersande/sharps/sharp_1/hmi.sharp_cea_...</td>\n",
       "      <td>/d0/kvandersande/sharps/sharp_1/hmi.sharp_cea_...</td>\n",
       "      <td>580</td>\n",
       "      <td>265</td>\n",
       "      <td>2010.05.01_15:48:03.687_TAI</td>\n",
       "      <td>2010.05.01_15:48:00.000_TAI</td>\n",
       "      <td>SDO/JSOC-SDP</td>\n",
       "      <td>2018-04-20T20:36:50.000</td>\n",
       "      <td>...</td>\n",
       "      <td>-64.984512</td>\n",
       "      <td>11067</td>\n",
       "      <td>11067</td>\n",
       "      <td>2.172610e+21</td>\n",
       "      <td>13.077928</td>\n",
       "      <td>0.0</td>\n",
       "      <td>-1328.58997</td>\n",
       "      <td>1549.04004</td>\n",
       "      <td>11.012257</td>\n",
       "      <td>21.134663</td>\n",
       "    </tr>\n",
       "    <tr>\n",
       "      <th>4</th>\n",
       "      <td>/d0/kvandersande/sharps_hdf5/hmi.sharp_cea_720...</td>\n",
       "      <td>2010-05-04 07:48:04.240</td>\n",
       "      <td>/d0/kvandersande/sharps/sharp_1/hmi.sharp_cea_...</td>\n",
       "      <td>/d0/kvandersande/sharps/sharp_1/hmi.sharp_cea_...</td>\n",
       "      <td>580</td>\n",
       "      <td>265</td>\n",
       "      <td>2010.05.04_07:48:04.240_TAI</td>\n",
       "      <td>2010.05.04_07:48:00.000_TAI</td>\n",
       "      <td>SDO/JSOC-SDP</td>\n",
       "      <td>2018-04-25T16:50:47.000</td>\n",
       "      <td>...</td>\n",
       "      <td>-26.688587</td>\n",
       "      <td>11067</td>\n",
       "      <td>11067</td>\n",
       "      <td>5.240758e+21</td>\n",
       "      <td>19.229950</td>\n",
       "      <td>0.0</td>\n",
       "      <td>-1651.93994</td>\n",
       "      <td>1528.43005</td>\n",
       "      <td>8.441732</td>\n",
       "      <td>12.553595</td>\n",
       "    </tr>\n",
       "  </tbody>\n",
       "</table>\n",
       "<p>5 rows × 80 columns</p>\n",
       "</div>"
      ],
      "text/plain": [
       "                                                file              sample_time  \\\n",
       "0  /d0/kvandersande/sharps_hdf5/hmi.sharp_cea_720...  2010-05-01 07:48:03.860   \n",
       "1  /d0/kvandersande/sharps_hdf5/hmi.sharp_cea_720...  2010-05-03 07:48:04.114   \n",
       "2  /d0/kvandersande/sharps_hdf5/hmi.sharp_cea_720...  2010-05-03 23:48:04.079   \n",
       "3  /d0/kvandersande/sharps_hdf5/hmi.sharp_cea_720...  2010-05-01 15:48:03.687   \n",
       "4  /d0/kvandersande/sharps_hdf5/hmi.sharp_cea_720...  2010-05-04 07:48:04.240   \n",
       "\n",
       "                                             br_file  \\\n",
       "0  /d0/kvandersande/sharps/sharp_1/hmi.sharp_cea_...   \n",
       "1  /d0/kvandersande/sharps/sharp_1/hmi.sharp_cea_...   \n",
       "2  /d0/kvandersande/sharps/sharp_1/hmi.sharp_cea_...   \n",
       "3  /d0/kvandersande/sharps/sharp_1/hmi.sharp_cea_...   \n",
       "4  /d0/kvandersande/sharps/sharp_1/hmi.sharp_cea_...   \n",
       "\n",
       "                                           blos_file  naxis1  naxis2  \\\n",
       "0  /d0/kvandersande/sharps/sharp_1/hmi.sharp_cea_...     580     265   \n",
       "1  /d0/kvandersande/sharps/sharp_1/hmi.sharp_cea_...     580     265   \n",
       "2  /d0/kvandersande/sharps/sharp_1/hmi.sharp_cea_...     580     265   \n",
       "3  /d0/kvandersande/sharps/sharp_1/hmi.sharp_cea_...     580     265   \n",
       "4  /d0/kvandersande/sharps/sharp_1/hmi.sharp_cea_...     580     265   \n",
       "\n",
       "                         t_obs                        t_rec        origin  \\\n",
       "0  2010.05.01_07:48:03.860_TAI  2010.05.01_07:48:00.000_TAI  SDO/JSOC-SDP   \n",
       "1  2010.05.03_07:48:04.114_TAI  2010.05.03_07:48:00.000_TAI  SDO/JSOC-SDP   \n",
       "2  2010.05.03_23:48:04.079_TAI  2010.05.03_23:48:00.000_TAI  SDO/JSOC-SDP   \n",
       "3  2010.05.01_15:48:03.687_TAI  2010.05.01_15:48:00.000_TAI  SDO/JSOC-SDP   \n",
       "4  2010.05.04_07:48:04.240_TAI  2010.05.04_07:48:00.000_TAI  SDO/JSOC-SDP   \n",
       "\n",
       "                      date  ...    lon_max noaa_ar  noaa_ars       usfluxl  \\\n",
       "0  2018-04-20T20:29:02.000  ... -69.727379   11067     11067  2.376075e+21   \n",
       "1  2018-04-20T21:19:35.000  ... -40.446934   11067     11067  5.077353e+21   \n",
       "2  2018-04-20T21:37:13.000  ... -31.397173   11067     11067  5.285607e+21   \n",
       "3  2018-04-20T20:36:50.000  ... -64.984512   11067     11067  2.172610e+21   \n",
       "4  2018-04-25T16:50:47.000  ... -26.688587   11067     11067  5.240758e+21   \n",
       "\n",
       "     meangbl  missvals     datamin     datamax   datamedn   datamean  \n",
       "0  10.670333    3902.0 -1408.60999  1419.29004  -8.662315   0.103898  \n",
       "1  18.540165       0.0 -2008.47998  1849.40002  10.731854  17.393345  \n",
       "2  19.634661       0.0 -1923.65002  1978.01001   5.658292  14.098642  \n",
       "3  13.077928       0.0 -1328.58997  1549.04004  11.012257  21.134663  \n",
       "4  19.229950       0.0 -1651.93994  1528.43005   8.441732  12.553595  \n",
       "\n",
       "[5 rows x 80 columns]"
      ]
     },
     "execution_count": 68,
     "metadata": {},
     "output_type": "execute_result"
    }
   ],
   "source": [
    "sharps_indexes = []\n",
    "for index_file in sorted(glob.glob('../data/index_**.csv')):\n",
    "    next_index = pd.read_csv(index_file)\n",
    "    sharps_indexes.append(next_index)\n",
    "sharps_index = pd.concat(sharps_indexes,ignore_index=True)\n",
    "sharps_index.head()\n"
   ]
  },
  {
   "cell_type": "markdown",
   "metadata": {},
   "source": [
    "### Plot distribution of SHARPs sizes"
   ]
  },
  {
   "cell_type": "code",
   "execution_count": 69,
   "metadata": {},
   "outputs": [
    {
     "data": {
      "text/plain": [
       "Text(0.5, 1.0, 'Distribution of SHARP sizes')"
      ]
     },
     "execution_count": 69,
     "metadata": {},
     "output_type": "execute_result"
    },
    {
     "data": {
      "image/png": "[encoded data removed]",
      "text/plain": [
       "<Figure size 640x480 with 1 Axes>"
      ]
     },
     "metadata": {},
     "output_type": "display_data"
    }
   ],
   "source": [
    "sns.set_theme('notebook',style='whitegrid',palette='rocket')\n",
    "sns.histplot(sharps_index,x='naxis1',y='naxis2',binwidth=50)\n",
    "plt.title('Distribution of SHARP sizes')"
   ]
  },
  {
   "cell_type": "code",
   "execution_count": 70,
   "metadata": {},
   "outputs": [
    {
     "data": {
      "text/plain": [
       "<Axes: xlabel='datamax', ylabel='Count'>"
      ]
     },
     "execution_count": 70,
     "metadata": {},
     "output_type": "execute_result"
    },
    {
     "data": {
      "image/png": "[encoded data removed]",
      "text/plain": [
       "<Figure size 640x480 with 1 Axes>"
      ]
     },
     "metadata": {},
     "output_type": "display_data"
    }
   ],
   "source": [
    "sns.histplot(sharps_index,x='datamax')"
   ]
  },
  {
   "cell_type": "markdown",
   "metadata": {},
   "source": [
    "### Download flare catalog"
   ]
  },
  {
   "cell_type": "code",
   "execution_count": 34,
   "metadata": {},
   "outputs": [],
   "source": [
    "# Query HEK for flare catalog\n",
    "event_type = 'FL'\n",
    "tstart = '2010/05/01'\n",
    "tend = '2022/12/31'\n",
    "result = Fido.search(a.Time(tstart,tend),a.hek.EventType(event_type),a.hek.FL.GOESCls>'C1.0',a.hek.OBS.Observatory=='GOES')"
   ]
  },
  {
   "cell_type": "code",
   "execution_count": 35,
   "metadata": {},
   "outputs": [
    {
     "name": "stdout",
     "output_type": "stream",
     "text": [
      "['gs_thumburl', 'comment_count', 'hpc_bbox', 'frm_humanflag', 'hgc_coord', 'event_coordsys', 'obs_levelnum', 'hpc_coord', 'event_npixels', 'gs_imageurl', 'ar_polarity', 'frm_paramset', 'hrc_coord', 'event_starttime', 'ar_mtwilsoncls', 'event_type', 'intensmin', 'fl_fluence', 'obs_meanwavel', 'frm_url', 'skel_chaincode', 'bound_chaincode', 'noposition', 'fl_fluenceunit', 'active', 'intensmax', 'frm_versionnumber', 'fl_peaktempunit', 'fl_halphaclass', 'area_uncert', 'obs_dataprepurl', 'hpc_geom', 'hgc_bbox', 'intensmedian', 'chaincodetype', 'obs_channelid', 'event_clippedspatial', 'ar_noaaclass', 'SOL_standard', 'event_avg_rating', 'eventtype', 'intensunit', 'hpc_boundcc', 'event_mapurl', 'frm_contact', 'ar_penumbracls', 'intensmean', 'bound_ccstartc1', 'frm_name', 'area_atdiskcenter', 'frm_identifier', 'obs_observatory', 'event_description', 'boundbox_c2ur', 'obs_firstprocessingdate', 'boundbox_c2ll', 'frm_institute', 'hrc_bbox', 'refs_orig', 'ar_mcintoshcls', 'event_maskurl', 'bound_ccstartc2', 'gs_movieurl', 'event_score', 'skel_startc2', 'skel_startc1', 'fl_efoldtime', 'event_expires', 'fl_efoldtimeunit', 'hrc_boundcc', 'event_probability', 'intensvar', 'frm_daterun', 'event_coordunit', 'hpc_y', 'hpc_x', 'search_instrument', 'ar_numspots', 'kb_archivdate', 'kb_archivist', 'intenstotal', 'sum_overlap_scores', 'hgs_boundcc', 'intensskew', 'obs_includesnrt', 'rasterscan', 'obs_wavelunit', 'kb_archivid', 'search_frm_name', 'boundbox_c1ur', 'ar_noaanum', 'area_atdiskcenteruncert', 'boundbox_c1ll', 'event_importance_num_ratings', 'ar_compactnesscls', 'skel_curvature', 'event_testflag', 'event_c2error', 'hrc_r', 'skel_nsteps', 'hgs_y', 'obs_title', 'fl_peakemunit', 'hgs_x', 'hcr_checked', 'frm_specificid', 'event_title', 'obs_instrument', 'event_c1error', 'revision', 'hpc_radius', 'event_endtime', 'event_importance', 'event_coord2', 'event_coord3', 'event_coord1', 'search_observatory', 'area_raw', 'concept', 'event_pixelunit', 'hgc_boundcc', 'fl_peakflux', 'hgc_x', 'hrc_a', 'event_peaktime', 'hgc_y', 'gs_galleryid', 'fl_goescls', 'hgs_coord', 'ar_zurichcls', 'bound_ccnsteps', 'intenskurt', 'event_clippedtemporal', 'fl_peakfluxunit', 'fl_peakem', 'rasterscantype', 'search_channelid', 'fl_peaktemp', 'hgs_bbox', 'area_unit', 'obs_lastprocessingdate', 'refs']\n"
     ]
    }
   ],
   "source": [
    "hek_results = result['hek']\n",
    "print(hek_results.colnames)"
   ]
  },
  {
   "cell_type": "code",
   "execution_count": 41,
   "metadata": {},
   "outputs": [],
   "source": [
    "filtered_results = hek_results['event_starttime','event_peaktime','event_endtime','fl_goescls','ar_noaanum']\n",
    "filtered_results.write('../data/hek_flare_catalog.csv',format='csv')"
   ]
  },
  {
   "cell_type": "code",
   "execution_count": 42,
   "metadata": {},
   "outputs": [],
   "source": [
    "flares = pd.read_csv('../data/hek_flare_catalog.csv')\n",
    "flares['CMX'] = flares['fl_goescls'].str[0]\n",
    "flares['CMX_value'] = flares['fl_goescls'].str[1:]"
   ]
  },
  {
   "cell_type": "code",
   "execution_count": 45,
   "metadata": {},
   "outputs": [],
   "source": [
    "flares['intensity'] = flares['CMX_value'].astype(float)*1e-6\n",
    "flares.loc[flares['CMX']=='M','intensity'] = flares.loc[flares['CMX']=='M','intensity']*10\n",
    "flares.loc[flares['CMX']=='X','intensity'] = flares.loc[flares['CMX']=='X','intensity']*100\n",
    "flares.loc[flares['CMX']=='Y','intensity'] = flares.loc[flares['CMX']=='Y','intensity']*1000\n"
   ]
  },
  {
   "cell_type": "code",
   "execution_count": 51,
   "metadata": {},
   "outputs": [],
   "source": [
    "flares=flares.rename(columns={'event_starttime':'start_time','event_peaktime':'peak_time','event_endtime':'end_time',\n",
    "                'fl_goescls':'GOES_class','ar_noaanum':'AR'})\n",
    "flares.to_csv('../data/hek_flare_catalog.csv')"
   ]
  },
  {
   "cell_type": "markdown",
   "metadata": {},
   "source": [
    "### Add flare labels to index"
   ]
  },
  {
   "cell_type": "code",
   "execution_count": 109,
   "metadata": {},
   "outputs": [
    {
     "name": "stdout",
     "output_type": "stream",
     "text": [
      "72213\n",
      "49552\n"
     ]
    }
   ],
   "source": [
    "flares = pd.read_csv('../data/hek_flare_catalog.csv')\n",
    "flares['peak_time'] = pd.to_datetime(flares['peak_time'])\n",
    "windows = [3,6,12,24,48]\n",
    "sharps_index['sample_time'] = pd.to_datetime(sharps_index['sample_time'])\n",
    "\n",
    "# remove SHARPs without an associated AR\n",
    "print(len(sharps_index))\n",
    "sharps_index = sharps_index[sharps_index['noaa_ars'].notna()]\n",
    "print(len(sharps_index))"
   ]
  },
  {
   "cell_type": "code",
   "execution_count": 118,
   "metadata": {},
   "outputs": [],
   "source": [
    "label_data = {}\n",
    "for window in windows:\n",
    "    label_data['C_flare_in_'+str(window)+'h'] = []\n",
    "    label_data['M_flare_in_'+str(window)+'h'] = []\n",
    "    label_data['X_flare_in_'+str(window)+'h'] = []\n",
    "    label_data['flare_intensity_in_'+str(window)+'h'] = []\n",
    "\n",
    "for i in sharps_index.index:\n",
    "    sample = sharps_index.loc[i]\n",
    "    sample_time = sample['sample_time']\n",
    "    ars = np.array(str(sample['noaa_ars']).split(',')).astype(int)\n",
    "    sharps_flares = flares[flares['AR'].isin(ars)]\n",
    "    for window in windows:\n",
    "        flare_data = sharps_flares[(sharps_flares['peak_time']>=sample_time)&\n",
    "                        (sharps_flares['peak_time']<=sample_time+timedelta(hours=window))]\n",
    "        label_data['C_flare_in_'+str(window)+'h'].append(sum(flare_data['CMX']=='C')>0)\n",
    "        label_data['M_flare_in_'+str(window)+'h'].append(sum(flare_data['CMX']=='M')>0)\n",
    "        label_data['X_flare_in_'+str(window)+'h'].append(sum(flare_data['CMX']=='X')>0)\n",
    "        if len(flare_data)>0:\n",
    "            label_data['flare_intensity_in_'+str(window)+'h'].append('{:0.1e}'.format(flare_data['intensity'].max()))\n",
    "        else:\n",
    "            label_data['flare_intensity_in_'+str(window)+'h'].append(0)\n",
    "\n"
   ]
  },
  {
   "cell_type": "code",
   "execution_count": 119,
   "metadata": {},
   "outputs": [],
   "source": [
    "for key in label_data:\n",
    "    sharps_index[key] = label_data[key]"
   ]
  },
  {
   "cell_type": "code",
   "execution_count": 120,
   "metadata": {},
   "outputs": [],
   "source": [
    "sharps_index.to_csv('../data/index_sharps.csv',index=False)"
   ]
  },
  {
   "cell_type": "code",
   "execution_count": 122,
   "metadata": {},
   "outputs": [
    {
     "name": "stdout",
     "output_type": "stream",
     "text": [
      ">=C 7729\n",
      ">=M 1284\n",
      "total 49552\n"
     ]
    }
   ],
   "source": [
    "print('>=C',sum(sharps_index['flare_intensity_in_24h'].astype(float)>=1e-6))\n",
    "print('>=M',sum(sharps_index['flare_intensity_in_24h'].astype(float)>=1e-5))\n",
    "print('total',len(sharps_index))\n"
   ]
  },
  {
   "cell_type": "code",
   "execution_count": 123,
   "metadata": {},
   "outputs": [
    {
     "name": "stdout",
     "output_type": "stream",
     "text": [
      "1021\n"
     ]
    }
   ],
   "source": [
    "print(sum(flares['intensity']>=9.9999999e-6))"
   ]
  },
  {
   "cell_type": "code",
   "execution_count": null,
   "metadata": {},
   "outputs": [],
   "source": []
  }
 ],
 "metadata": {
  "kernelspec": {
   "display_name": "fforecast",
   "language": "python",
   "name": "python3"
  },
  "language_info": {
   "codemirror_mode": {
    "name": "ipython",
    "version": 3
   },
   "file_extension": ".py",
   "mimetype": "text/x-python",
   "name": "python",
   "nbconvert_exporter": "python",
   "pygments_lexer": "ipython3",
   "version": "3.9.16"
  },
  "orig_nbformat": 4
 },
 "nbformat": 4,
 "nbformat_minor": 2
}
